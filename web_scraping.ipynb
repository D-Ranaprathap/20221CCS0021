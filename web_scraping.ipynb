{
  "nbformat": 4,
  "nbformat_minor": 0,
  "metadata": {
    "colab": {
      "provenance": [],
      "authorship_tag": "ABX9TyOz75uqrZ0FcR6jrjVHNojG",
      "include_colab_link": true
    },
    "kernelspec": {
      "name": "python3",
      "display_name": "Python 3"
    },
    "language_info": {
      "name": "python"
    }
  },
  "cells": [
    {
      "cell_type": "markdown",
      "metadata": {
        "id": "view-in-github",
        "colab_type": "text"
      },
      "source": [
        "<a href=\"https://colab.research.google.com/github/D-Ranaprathap/20221CCS0021/blob/main/web_scraping.ipynb\" target=\"_parent\"><img src=\"https://colab.research.google.com/assets/colab-badge.svg\" alt=\"Open In Colab\"/></a>"
      ]
    },
    {
      "cell_type": "code",
      "execution_count": null,
      "metadata": {
        "id": "gKav0OVtniyj"
      },
      "outputs": [],
      "source": [
        "import requests\n",
        "link=\"https://www.formula1.com/en/racing/2024.html\"\n",
        "link_text=requests.get(link).text\n",
        "print(link_text)"
      ]
    },
    {
      "cell_type": "code",
      "source": [
        "from bs4 import BeautifulSoup\n",
        "soup = BeautifulSoup(link_text,'lxml')\n",
        "print(soup)"
      ],
      "metadata": {
        "id": "2kS-iHiQpRIk"
      },
      "execution_count": null,
      "outputs": []
    },
    {
      "cell_type": "code",
      "source": [
        "print(soup.prettify)"
      ],
      "metadata": {
        "id": "vuFb8XcxrRo0"
      },
      "execution_count": null,
      "outputs": []
    },
    {
      "cell_type": "code",
      "source": [
        "print(soup.title)"
      ],
      "metadata": {
        "colab": {
          "base_uri": "https://localhost:8080/"
        },
        "id": "C7xzh-KwsqoE",
        "outputId": "184edbd0-3a84-4a34-c09a-36dadb783926"
      },
      "execution_count": 29,
      "outputs": [
        {
          "output_type": "stream",
          "name": "stdout",
          "text": [
            "<title>The Most Popular Car Brands in America (Top 50)</title>\n"
          ]
        }
      ]
    },
    {
      "cell_type": "code",
      "source": [
        "print(soup.title.string)"
      ],
      "metadata": {
        "colab": {
          "base_uri": "https://localhost:8080/"
        },
        "id": "f4MQZgrss02q",
        "outputId": "a1589806-343e-4f74-8c68-38d2e1308737"
      },
      "execution_count": 28,
      "outputs": [
        {
          "output_type": "stream",
          "name": "stdout",
          "text": [
            "The Most Popular Car Brands in America (Top 50)\n"
          ]
        }
      ]
    },
    {
      "cell_type": "code",
      "source": [
        "import requests\n",
        "from bs4 import BeautifulSoup\n",
        "import os\n",
        "\n",
        "# Define the URL of the Formula 1 website you want to scrape\n",
        "url = 'https://www.formula1.com/'\n",
        "\n",
        "# Send a GET request to the URL\n",
        "response = requests.get(url)\n",
        "\n",
        "# Parse the HTML content of the page using BeautifulSoup\n",
        "soup = BeautifulSoup(response.text, 'html.parser')\n",
        "\n",
        "# Find all image elements on the page\n",
        "image_tags = soup.find_all('img')\n",
        "\n",
        "# Create a directory to save the images\n",
        "os.makedirs('f1_images', exist_ok=True)\n",
        "\n",
        "# Download and save each image\n",
        "for idx, img in enumerate(image_tags):\n",
        "    # Get the image URL\n",
        "    img_url = img.get('src')\n",
        "\n",
        "    # Skip if image URL is None or if it doesn't start with 'http'\n",
        "    if img_url is None or not img_url.startswith('http'):\n",
        "        continue\n",
        "\n",
        "    # Send a GET request to the image URL\n",
        "    img_response = requests.get(img_url)\n",
        "\n",
        "    # Save the image to the 'f1_images' directory\n",
        "    with open(f'f1_images/f1_image_{idx}.jpg', 'wb') as f:\n",
        "        f.write(img_response.content)\n",
        "\n",
        "    print(f\"Image {idx} saved\")\n",
        "\n",
        "print(\"All images saved successfully!\")\n"
      ],
      "metadata": {
        "colab": {
          "base_uri": "https://localhost:8080/"
        },
        "id": "6tZajoqCzFtS",
        "outputId": "2a023099-0e7d-49b2-fe92-2a1f4e4b0b2b"
      },
      "execution_count": 37,
      "outputs": [
        {
          "output_type": "stream",
          "name": "stdout",
          "text": [
            "Image 45 saved\n",
            "Image 46 saved\n",
            "Image 47 saved\n",
            "Image 48 saved\n",
            "Image 49 saved\n",
            "Image 50 saved\n",
            "Image 51 saved\n",
            "Image 52 saved\n",
            "Image 53 saved\n",
            "Image 54 saved\n",
            "Image 55 saved\n",
            "Image 56 saved\n",
            "Image 57 saved\n",
            "Image 58 saved\n",
            "Image 59 saved\n",
            "Image 60 saved\n",
            "Image 61 saved\n",
            "Image 62 saved\n",
            "Image 63 saved\n",
            "Image 64 saved\n",
            "Image 65 saved\n",
            "Image 66 saved\n",
            "Image 67 saved\n",
            "Image 68 saved\n",
            "All images saved successfully!\n"
          ]
        }
      ]
    }
  ]
}