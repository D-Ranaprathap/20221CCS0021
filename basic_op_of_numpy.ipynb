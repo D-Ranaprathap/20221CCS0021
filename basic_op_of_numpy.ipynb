{
  "nbformat": 4,
  "nbformat_minor": 0,
  "metadata": {
    "colab": {
      "provenance": [],
      "authorship_tag": "ABX9TyNa4xlHEK9UG1kY4U74qkf9",
      "include_colab_link": true
    },
    "kernelspec": {
      "name": "python3",
      "display_name": "Python 3"
    },
    "language_info": {
      "name": "python"
    }
  },
  "cells": [
    {
      "cell_type": "markdown",
      "metadata": {
        "id": "view-in-github",
        "colab_type": "text"
      },
      "source": [
        "<a href=\"https://colab.research.google.com/github/D-Ranaprathap/20221CCS0021/blob/main/basic_op_of_numpy.ipynb\" target=\"_parent\"><img src=\"https://colab.research.google.com/assets/colab-badge.svg\" alt=\"Open In Colab\"/></a>"
      ]
    },
    {
      "cell_type": "code",
      "execution_count": 1,
      "metadata": {
        "colab": {
          "base_uri": "https://localhost:8080/"
        },
        "id": "Cw3NMTUA1_VG",
        "outputId": "0d2c3a92-7955-49c2-8986-d41058b0d3bd"
      },
      "outputs": [
        {
          "output_type": "stream",
          "name": "stdout",
          "text": [
            "Array 1:\n",
            "Data:\n",
            "[1 2 3 4 5]\n",
            "Shape: (5,)\n",
            "Size: 5\n",
            "Dimensions: 1\n",
            "Length (for 1D arrays only): 5\n",
            "\n",
            "Array 2:\n",
            "Data:\n",
            "[[1 2 3]\n",
            " [4 5 6]]\n",
            "Shape: (2, 3)\n",
            "Size: 6\n",
            "Dimensions: 2\n",
            "Length (for 1D arrays only): N/A\n",
            "\n",
            "Array 3:\n",
            "Data:\n",
            "[[[1 2]\n",
            "  [3 4]]\n",
            "\n",
            " [[5 6]\n",
            "  [7 8]]]\n",
            "Shape: (2, 2, 2)\n",
            "Size: 8\n",
            "Dimensions: 3\n",
            "Length (for 1D arrays only): N/A\n",
            "\n"
          ]
        }
      ],
      "source": [
        "import numpy as np\n",
        "array_1d = np.array([1, 2, 3, 4, 5])\n",
        "array_2d = np.array([[1, 2, 3],\n",
        "                     [4, 5, 6]])\n",
        "array_3d = np.array([[[1, 2],\n",
        "                      [3, 4]],\n",
        "                     [[5, 6],\n",
        "                      [7, 8]]])\n",
        "arrays = [array_1d, array_2d, array_3d]\n",
        "for i, array in enumerate(arrays, start=1):\n",
        "    print(f\"Array {i}:\")\n",
        "    print(\"Data:\")\n",
        "    print(array)\n",
        "    print(\"Shape:\", array.shape)\n",
        "    print(\"Size:\", array.size)\n",
        "    print(\"Dimensions:\", array.ndim)\n",
        "    print(\"Length (for 1D arrays only):\", len(array) if array.ndim == 1 else \"N/A\")\n",
        "    print()"
      ]
    },
    {
      "cell_type": "code",
      "source": [
        "import numpy as np"
      ],
      "metadata": {
        "id": "Dx28L5G284tw"
      },
      "execution_count": 4,
      "outputs": []
    },
    {
      "cell_type": "code",
      "source": [
        "import random\n",
        "random_number = random.randint(1, 10)\n",
        "print(\"Random number between 1 and 10:\", random_number)\n"
      ],
      "metadata": {
        "colab": {
          "base_uri": "https://localhost:8080/"
        },
        "id": "_D_1-3P_8pN_",
        "outputId": "023da1e2-8cb8-42b3-ab2d-dcb7476680d3"
      },
      "execution_count": 9,
      "outputs": [
        {
          "output_type": "stream",
          "name": "stdout",
          "text": [
            "Random number between 1 and 10: 5\n"
          ]
        }
      ]
    },
    {
      "cell_type": "code",
      "source": [
        "\n",
        "values = np.linspace(0, 3, num=10)\n",
        "print(\"Values:\", values)"
      ],
      "metadata": {
        "colab": {
          "base_uri": "https://localhost:8080/"
        },
        "id": "3cxEbfMz9Y8G",
        "outputId": "a8db2263-5021-442e-dc8c-80f99cf43ccd"
      },
      "execution_count": 23,
      "outputs": [
        {
          "output_type": "stream",
          "name": "stdout",
          "text": [
            "Values: [0.         0.33333333 0.66666667 1.         1.33333333 1.66666667\n",
            " 2.         2.33333333 2.66666667 3.        ]\n"
          ]
        }
      ]
    },
    {
      "cell_type": "code",
      "source": [
        "array_ones = np.ones((3, 3))\n",
        "print(\"Array filled with ones:\")\n",
        "print(array_ones)"
      ],
      "metadata": {
        "colab": {
          "base_uri": "https://localhost:8080/"
        },
        "id": "c6PdmhAE9p4M",
        "outputId": "c1adb4ff-fa6b-4b54-ec54-4210213f1ace"
      },
      "execution_count": 22,
      "outputs": [
        {
          "output_type": "stream",
          "name": "stdout",
          "text": [
            "Array filled with ones:\n",
            "[[1. 1. 1.]\n",
            " [1. 1. 1.]\n",
            " [1. 1. 1.]]\n"
          ]
        }
      ]
    },
    {
      "cell_type": "code",
      "source": [
        "array_zeros = np.zeros((3, 3))\n",
        "print(\"Array filled with zeros:\")\n",
        "print(array_zeros)"
      ],
      "metadata": {
        "colab": {
          "base_uri": "https://localhost:8080/"
        },
        "id": "9YPbjdjx94He",
        "outputId": "a2758676-23eb-4722-a04f-1b290d0dcb9f"
      },
      "execution_count": 21,
      "outputs": [
        {
          "output_type": "stream",
          "name": "stdout",
          "text": [
            "Array filled with zeros:\n",
            "[[0. 0. 0.]\n",
            " [0. 0. 0.]\n",
            " [0. 0. 0.]]\n"
          ]
        }
      ]
    },
    {
      "cell_type": "code",
      "source": [
        "arr_2d = np.array([[1, 2, 3],[4, 4, 6], [7, 8, 3]])\n",
        "diag_elements = np.diag(arr_2d)\n",
        "print(\"Diagonal elements:\", diag_elements)"
      ],
      "metadata": {
        "colab": {
          "base_uri": "https://localhost:8080/"
        },
        "id": "XO46MiyV-CV1",
        "outputId": "3b57b391-b7d5-4b90-bad3-891c693a03d8"
      },
      "execution_count": 20,
      "outputs": [
        {
          "output_type": "stream",
          "name": "stdout",
          "text": [
            "Diagonal elements: [1 4 3]\n"
          ]
        }
      ]
    },
    {
      "cell_type": "code",
      "source": [
        "arr = np.array([[1, 2, 3],[4, 5, 6]])\n",
        "total_sum = np.sum(arr)\n",
        "print(\"Total sum:\", total_sum)"
      ],
      "metadata": {
        "colab": {
          "base_uri": "https://localhost:8080/"
        },
        "id": "UhpCu68z-EL9",
        "outputId": "bf70bb24-3df5-45cc-de3e-a7f10c39f013"
      },
      "execution_count": 19,
      "outputs": [
        {
          "output_type": "stream",
          "name": "stdout",
          "text": [
            "Total sum: 21\n"
          ]
        }
      ]
    },
    {
      "cell_type": "code",
      "source": [
        "arr = np.array([[1, 2, 3],[4, 5, 6]])\n",
        "total_min = np.min(arr)\n",
        "print(\"Total minimum value:\", total_min)"
      ],
      "metadata": {
        "colab": {
          "base_uri": "https://localhost:8080/"
        },
        "id": "pXm2FQv6-EP1",
        "outputId": "e46df3a1-434f-48ab-96de-e36ab00c1b4a"
      },
      "execution_count": 18,
      "outputs": [
        {
          "output_type": "stream",
          "name": "stdout",
          "text": [
            "Total minimum value: 1\n"
          ]
        }
      ]
    },
    {
      "cell_type": "code",
      "source": [
        "arr = np.array([[1, 2, 3],[4, 5, 6]])\n",
        "total_max = np.max(arr)\n",
        "print(\"Total maximum value:\", total_max)"
      ],
      "metadata": {
        "colab": {
          "base_uri": "https://localhost:8080/"
        },
        "id": "4YuuoXSq-H49",
        "outputId": "bc67ed79-e7ba-4672-b2e6-d59a3a16c947"
      },
      "execution_count": 17,
      "outputs": [
        {
          "output_type": "stream",
          "name": "stdout",
          "text": [
            "Total maximum value: 6\n"
          ]
        }
      ]
    },
    {
      "cell_type": "code",
      "source": [
        "arr = np.array([[1, 2, 3],\n",
        "                [4, 5, 6]])\n",
        "total_mean = np.mean(arr)\n",
        "print(\"Total mean:\", total_mean)"
      ],
      "metadata": {
        "colab": {
          "base_uri": "https://localhost:8080/"
        },
        "id": "r0PrYj_x-hzO",
        "outputId": "f6d47df1-11db-4a8b-ab42-7bb9ca9cf738"
      },
      "execution_count": 16,
      "outputs": [
        {
          "output_type": "stream",
          "name": "stdout",
          "text": [
            "Total mean: 3.5\n"
          ]
        }
      ]
    },
    {
      "cell_type": "code",
      "source": [
        "np.random.seed(42)\n",
        "student_marks = np.random.randint(0, 101, size=50)\n",
        "passing_marks = student_marks >= 30\n",
        "num_students_passed = np.sum(passing_marks)\n",
        "print(\"Number of students passed:\", num_students_passed)\n",
        "failed_marks = student_marks[student_marks < 30]\n",
        "print(\"Failed marks:\", failed_marks)"
      ],
      "metadata": {
        "colab": {
          "base_uri": "https://localhost:8080/"
        },
        "id": "QU6sYgra-lYt",
        "outputId": "e90fe605-e1a4-452d-a473-f4e701f75b40"
      },
      "execution_count": 15,
      "outputs": [
        {
          "output_type": "stream",
          "name": "stdout",
          "text": [
            "Number of students passed: 36\n",
            "Failed marks: [14 20 23  2 21  1 29  1 20 21 14  2  6 20]\n"
          ]
        }
      ]
    },
    {
      "cell_type": "code",
      "source": [
        "random_array = np.random.randint(1, 51, size=(5, 5))\n",
        "print(\"Random 2D array:\")\n",
        "print(random_array)"
      ],
      "metadata": {
        "colab": {
          "base_uri": "https://localhost:8080/"
        },
        "id": "uKbng3y0-qBe",
        "outputId": "06a9a6c1-f2fc-4924-9748-64cd5e64ee09"
      },
      "execution_count": 13,
      "outputs": [
        {
          "output_type": "stream",
          "name": "stdout",
          "text": [
            "Random 2D array:\n",
            "[[45 32  7 43  1]\n",
            " [ 3 18 26  3 24]\n",
            " [ 7 26 25  2  5]\n",
            " [38 41 39 39 13]\n",
            " [47  4 17 38 44]]\n"
          ]
        }
      ]
    },
    {
      "cell_type": "code",
      "source": [
        "odd_numbers = np.arange(-29, 11, 2)\n",
        "print(\"Array of odd numbers between -30 and 10:\")\n",
        "print(odd_numbers)"
      ],
      "metadata": {
        "colab": {
          "base_uri": "https://localhost:8080/"
        },
        "id": "hCJqA8j3-tlF",
        "outputId": "0e9bc09c-2843-4242-936c-c7bbc726bb01"
      },
      "execution_count": 12,
      "outputs": [
        {
          "output_type": "stream",
          "name": "stdout",
          "text": [
            "Array of odd numbers between -30 and 10:\n",
            "[-29 -27 -25 -23 -21 -19 -17 -15 -13 -11  -9  -7  -5  -3  -1   1   3   5\n",
            "   7   9]\n"
          ]
        }
      ]
    },
    {
      "cell_type": "code",
      "source": [
        "import numpy as np\n",
        "arr1 = np.arange(5)\n",
        "print(\"Example 1:\", arr1)\n",
        "arr2 = np.arange(2, 10)\n",
        "print(\"Example 2:\", arr2)\n",
        "arr3 = np.arange(1, 10, 2)\n",
        "print(\"Example 3:\", arr3)\n",
        "arr4 = np.arange(0, 1, 0.2)\n",
        "print(\"Example 4:\", arr4)\n"
      ],
      "metadata": {
        "colab": {
          "base_uri": "https://localhost:8080/"
        },
        "id": "5Tom1824_34d",
        "outputId": "576aaa39-d670-47f2-aa5d-f85424a8e2cd"
      },
      "execution_count": 25,
      "outputs": [
        {
          "output_type": "stream",
          "name": "stdout",
          "text": [
            "Example 1: [0 1 2 3 4]\n",
            "Example 2: [2 3 4 5 6 7 8 9]\n",
            "Example 3: [1 3 5 7 9]\n",
            "Example 4: [0.  0.2 0.4 0.6 0.8]\n"
          ]
        }
      ]
    }
  ]
}