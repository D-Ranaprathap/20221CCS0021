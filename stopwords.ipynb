{
  "nbformat": 4,
  "nbformat_minor": 0,
  "metadata": {
    "colab": {
      "provenance": [],
      "authorship_tag": "ABX9TyNofK29qJsETRfvj0aYHNU1",
      "include_colab_link": true
    },
    "kernelspec": {
      "name": "python3",
      "display_name": "Python 3"
    },
    "language_info": {
      "name": "python"
    }
  },
  "cells": [
    {
      "cell_type": "markdown",
      "metadata": {
        "id": "view-in-github",
        "colab_type": "text"
      },
      "source": [
        "<a href=\"https://colab.research.google.com/github/D-Ranaprathap/20221CCS0021/blob/main/stopwords.ipynb\" target=\"_parent\"><img src=\"https://colab.research.google.com/assets/colab-badge.svg\" alt=\"Open In Colab\"/></a>"
      ]
    },
    {
      "cell_type": "code",
      "execution_count": 19,
      "metadata": {
        "colab": {
          "base_uri": "https://localhost:8080/"
        },
        "id": "y4kaTE3_256x",
        "outputId": "d1076925-b3e6-463f-f1b9-24caabe9b91a"
      },
      "outputs": [
        {
          "output_type": "stream",
          "name": "stderr",
          "text": [
            "[nltk_data] Downloading package stopwords to /root/nltk_data...\n",
            "[nltk_data]   Package stopwords is already up-to-date!\n"
          ]
        }
      ],
      "source": [
        "import nltk\n",
        "from nltk.corpus import stopwords\n",
        "nltk.download('stopwords')\n",
        "def remove_stop_words(string):\n",
        "  stop_words=set(stopwords.words('english'))\n",
        "  words=string.split()\n",
        "  filtered_words=[word for word in words if word.lower() not in stop_words]\n",
        "  new_string=''.join(filtered_words)\n",
        "  return new_string"
      ]
    },
    {
      "cell_type": "code",
      "source": [
        "input_string=\"this is an example sentence to remove stopwords from\"\n",
        "result=remove_stop_words(input_string)\n",
        "print(\"original string:\",input_string)\n",
        "print(\"modified string:\",result)"
      ],
      "metadata": {
        "colab": {
          "base_uri": "https://localhost:8080/"
        },
        "id": "aGohytNs4Eu-",
        "outputId": "02717ace-d1d4-49eb-b057-464ffe1915b5"
      },
      "execution_count": 3,
      "outputs": [
        {
          "output_type": "stream",
          "name": "stdout",
          "text": [
            "original string: this is an example sentence to remove stopwords from\n",
            "modified string: examplesentenceremovestopwords\n"
          ]
        }
      ]
    },
    {
      "cell_type": "code",
      "source": [
        "import matplotlib.pyplot as plt\n",
        "from collections import Counter\n",
        "import nltk\n",
        "from nltk.corpus import stopwords\n",
        "\n",
        "def plot_stopword_bar_graph(text):\n",
        "  words = nltk.word_tokenize(text.lower())\n",
        "  stop_words = set(stopwords.words('english'))\n",
        "  filtered_words = [word for word in words if word in stop_words]\n",
        "  word_freq = Counter(filtered_words)\n",
        "  sorted_word_freq = dict(sorted(word_freq.items(), key=lambda item: item[1], reverse=True))\n",
        "  plt.figure(figsize=(10, 6))\n",
        "  plt.bar(sorted_word_freq.keys(), sorted_word_freq.values(), color='skyblue')\n",
        "  plt.xlabel('Stop Words')\n",
        "  plt.ylabel('Frequency')\n",
        "  plt.title('Frequency of Stop Words')\n",
        "  plt.xticks(rotation=45, ha='right')\n",
        "  plt.tight_layout()\n",
        "  plt.show()\n",
        "\n",
        "\n",
        "text = \"this is an example sentence to remove stopwords from\"\n",
        "plot_stopword_bar_graph(text)\n"
      ],
      "metadata": {
        "colab": {
          "base_uri": "https://localhost:8080/",
          "height": 560
        },
        "id": "rdFNCQrH8Tse",
        "outputId": "8c8d390a-62ae-45ee-8703-b6d107219edf"
      },
      "execution_count": 29,
      "outputs": [
        {
          "output_type": "display_data",
          "data": {
            "text/plain": [
              "<Figure size 1000x600 with 1 Axes>"
            ],
            "image/png": "[encoded data removed]"
          },
          "metadata": {}
        }
      ]
    },
    {
      "cell_type": "markdown",
      "source": [],
      "metadata": {
        "id": "GfZb1uEf_Xw-"
      }
    },
    {
      "cell_type": "code",
      "source": [
        "def count_stopwords(text):\n",
        "    stop_words = set(stopwords.words('english'))\n",
        "    words = text.split()\n",
        "    stopwords_count = sum(1 for word in words if word.lower() in stop_words)\n",
        "    return stopwords_count"
      ],
      "metadata": {
        "id": "a8Fl5aIYBG_v"
      },
      "execution_count": 24,
      "outputs": []
    },
    {
      "cell_type": "code",
      "source": [
        "text = \"this is an example sentence to remove stopwords from.\"\n",
        "print(\"Number of stopwords:\", count_stopwords(text))"
      ],
      "metadata": {
        "colab": {
          "base_uri": "https://localhost:8080/"
        },
        "id": "FAWsZyC3BLVO",
        "outputId": "985b9e24-5021-4ef1-a638-06ff2b3764a3"
      },
      "execution_count": 27,
      "outputs": [
        {
          "output_type": "stream",
          "name": "stdout",
          "text": [
            "Number of stopwords: 4\n"
          ]
        }
      ]
    },
    {
      "cell_type": "code",
      "source": [],
      "metadata": {
        "id": "BkHn-LZ6BrX_"
      },
      "execution_count": null,
      "outputs": []
    }
  ]
}