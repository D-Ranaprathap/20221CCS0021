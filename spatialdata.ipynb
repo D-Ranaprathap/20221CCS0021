{
  "nbformat": 4,
  "nbformat_minor": 0,
  "metadata": {
    "colab": {
      "provenance": [],
      "authorship_tag": "ABX9TyPzSqqDIJ6e1jkTe3kGCKMy",
      "include_colab_link": true
    },
    "kernelspec": {
      "name": "python3",
      "display_name": "Python 3"
    },
    "language_info": {
      "name": "python"
    }
  },
  "cells": [
    {
      "cell_type": "markdown",
      "metadata": {
        "id": "view-in-github",
        "colab_type": "text"
      },
      "source": [
        "<a href=\"https://colab.research.google.com/github/D-Ranaprathap/20221CCS0021/blob/main/spatialdata.ipynb\" target=\"_parent\"><img src=\"https://colab.research.google.com/assets/colab-badge.svg\" alt=\"Open In Colab\"/></a>"
      ]
    },
    {
      "cell_type": "code",
      "execution_count": null,
      "metadata": {
        "id": "LD5aFZi_B4N6"
      },
      "outputs": [],
      "source": [
        "import folium\n",
        "mymap=folium.Map(location=[1.366623,103.821285],\n",
        "                 width=950,\n",
        "                 height=500,\n",
        "                 zoom_start=12,\n",
        "                 tiles='openstreet map')\n",
        "mymap"
      ]
    },
    {
      "cell_type": "code",
      "source": [
        "latitude = 13.172678003686375\n",
        "longitude =77.5359020080475\n",
        "\n",
        "\n",
        "mymap = folium.Map(location=[latitude, longitude], zoom_start=12)\n",
        "\n",
        "\n",
        "image_url = 'https://media.licdn.com/dms/image/C561BAQHA2-sfph3y7Q/company-background_10000/0/1585975556591/presidency_university_india_cover?e=2147483647&v=beta&t=_s7SRUHAtTLOEdPOQ50Slacd87gqK3ipDDhQONP7wyk'\n",
        "\n",
        "def image_popup_html(image_url, name):\n",
        "    html = f\"\"\"\n",
        "    <div>\n",
        "        <h3>{name}</h3>\n",
        "        <img src=\"{image_url}\" width=\"150\" height=\"150\">\n",
        "    </div>\n",
        "    \"\"\"\n",
        "    return html\n",
        "\n",
        "\n",
        "folium.Marker(\n",
        "    location=[latitude, longitude],\n",
        "    popup=folium.Popup(image_popup_html(image_url, \"Presidency University,Banglore\"), max_width=200),\n",
        "    tooltip=\"Click me!\"\n",
        ").add_to(mymap)\n",
        "\n",
        "mymap.save(\"my_map_with_custom_marker.html\")\n",
        "mymap"
      ],
      "metadata": {
        "id": "9YdA1IzrDBSx"
      },
      "execution_count": null,
      "outputs": []
    },
    {
      "cell_type": "code",
      "source": [
        "import folium\n",
        "latitude=12.9716\n",
        "longitude=77.5946\n",
        "m=folium.Map(location=[latitude,longitude],zomm_start=12)\n",
        "locations=[\n",
        "    {\"name\":\"banglore palace\",\"latitude\":12.996765297272566,\"longitude\":77.5921279388172},\n",
        "    {\"name\":\"vidan soudha\",\"latitude\":12.979777253298169,\"longitude\":77.59070795230727},\n",
        "    {\"name\":\"iisc\",\"latitude\":13.017243975116598,\"longitude\":77.56712358114449},\n",
        "]\n",
        "for location in locations:\n",
        "  folium.Marker(\n",
        "      [location[\"latitude\"],location[\"longitude\"]],popup=location[\"name\"]\n",
        "  ).add_to(m)\n",
        "m"
      ],
      "metadata": {
        "id": "58vbocZkJmBS"
      },
      "execution_count": null,
      "outputs": []
    },
    {
      "cell_type": "code",
      "source": [],
      "metadata": {
        "id": "N814F0KxMH9S"
      },
      "execution_count": null,
      "outputs": []
    }
  ]
}